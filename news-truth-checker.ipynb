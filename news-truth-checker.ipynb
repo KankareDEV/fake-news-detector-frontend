{
 "cells": [
  {
   "cell_type": "code",
   "execution_count": null,
   "id": "d5ab9dca-4569-42d9-81ef-0b452a85d19b",
   "metadata": {},
   "outputs": [],
   "source": [
    "!pip install boto3 pandas scikit-learn python-dotenv s3fs"
   ]
  },
  {
   "cell_type": "code",
   "execution_count": 2,
   "id": "c2df039e-45a0-48aa-99fb-b4c9fd8515bf",
   "metadata": {
    "execution": {
     "iopub.execute_input": "2025-05-16T13:26:04.875181Z",
     "iopub.status.busy": "2025-05-16T13:26:04.874925Z",
     "iopub.status.idle": "2025-05-16T13:26:18.587347Z",
     "shell.execute_reply": "2025-05-16T13:26:18.586051Z",
     "shell.execute_reply.started": "2025-05-16T13:26:04.875160Z"
    }
   },
   "outputs": [
    {
     "name": "stdout",
     "output_type": "stream",
     "text": [
      "\n",
      "Classification Report:\n",
      "\n",
      "              precision    recall  f1-score   support\n",
      "\n",
      "           0       0.93      0.94      0.94      4678\n",
      "           1       0.94      0.93      0.93      4302\n",
      "\n",
      "    accuracy                           0.93      8980\n",
      "   macro avg       0.93      0.93      0.93      8980\n",
      "weighted avg       0.93      0.93      0.93      8980\n",
      "\n",
      "✅ Model and vectorizer saved.\n"
     ]
    }
   ],
   "source": [
    "import pandas as pd\n",
    "import pickle\n",
    "from sklearn.model_selection import train_test_split\n",
    "from sklearn.feature_extraction.text import TfidfVectorizer\n",
    "from sklearn.naive_bayes import MultinomialNB\n",
    "from sklearn.metrics import classification_report\n",
    "\n",
    "# Load dataset\n",
    "df = pd.read_csv(\"data/fake_true_news_dataset.csv\")\n",
    "\n",
    "# Drop rows with missing text or label\n",
    "df = df.dropna(subset=['text', 'label'])\n",
    "\n",
    "# No mapping needed — labels already 0 (FAKE) and 1 (REAL)\n",
    "\n",
    "# Train/test split\n",
    "X_train, X_test, y_train, y_test = train_test_split(df['text'], df['label'], test_size=0.2, random_state=42)\n",
    "\n",
    "# TF-IDF vectorization\n",
    "vectorizer = TfidfVectorizer(stop_words='english', max_df=0.7)\n",
    "X_train_vec = vectorizer.fit_transform(X_train)\n",
    "X_test_vec = vectorizer.transform(X_test)\n",
    "\n",
    "# Train Naive Bayes model\n",
    "model = MultinomialNB()\n",
    "model.fit(X_train_vec, y_train)\n",
    "\n",
    "# Evaluate model\n",
    "y_pred = model.predict(X_test_vec)\n",
    "print(\"\\nClassification Report:\\n\")\n",
    "print(classification_report(y_test, y_pred))\n",
    "\n",
    "# Save model and vectorizer\n",
    "with open(\"news_model.pkl\", \"wb\") as f:\n",
    "    pickle.dump(model, f)\n",
    "\n",
    "with open(\"tfidf_vectorizer.pkl\", \"wb\") as f:\n",
    "    pickle.dump(vectorizer, f)\n",
    "\n",
    "print(\"✅ Model and vectorizer saved.\")\n"
   ]
  },
  {
   "cell_type": "code",
   "execution_count": null,
   "id": "4ec87052-6ac3-4cca-9eb0-48965fb228f0",
   "metadata": {},
   "outputs": [],
   "source": [
    "import tarfile\n",
    "\n",
    "with tarfile.open(\"model.tar.gz\", \"w:gz\") as tar:\n",
    "    tar.add(\"news_model.pkl\")\n",
    "    tar.add(\"tfidf_vectorizer.pkl\")\n",
    "\n",
    "print(\"✅ model.tar.gz created with both files.\")\n"
   ]
  },
  {
   "cell_type": "code",
   "execution_count": null,
   "id": "7c9dffc9-49a1-4f1d-b2d4-1e2b74f1a8e9",
   "metadata": {},
   "outputs": [],
   "source": [
    "import tarfile\n",
    "\n",
    "with tarfile.open(\"model.tar.gz\", \"w:gz\") as tar:\n",
    "    tar.add(\"news_model.pkl\")\n",
    "    tar.add(\"tfidf_vectorizer.pkl\")\n",
    "    tar.add(\"inference.py\")\n",
    "\n",
    "print(\"✅ Updated model.tar.gz with inference.py\")\n"
   ]
  },
  {
   "cell_type": "code",
   "execution_count": null,
   "id": "fe61c91c-7e9c-486d-a8a0-28effd0aec77",
   "metadata": {},
   "outputs": [],
   "source": [
    "import boto3\n",
    "s3 = boto3.client(\"s3\")\n"
   ]
  },
  {
   "cell_type": "code",
   "execution_count": null,
   "id": "b0975189-b332-4c43-a91b-d6edba845aea",
   "metadata": {},
   "outputs": [],
   "source": [
    "bucket = \"news-truth-checker-data-2025\"\n",
    "\n",
    "s3.upload_file(\"model.tar.gz\", bucket, \"model.tar.gz\")\n",
    "print(\"✅ Re-uploaded updated model.tar.gz to S3\")\n"
   ]
  },
  {
   "cell_type": "code",
   "execution_count": null,
   "id": "cd1d57bd-71cb-48af-8c25-0a851195af87",
   "metadata": {},
   "outputs": [],
   "source": [
    "from sagemaker import get_execution_role\n",
    "\n",
    "role = get_execution_role()\n",
    "print(role)\n"
   ]
  },
  {
   "cell_type": "code",
   "execution_count": null,
   "id": "5a6e1c7b-e61b-4d80-a4b8-7ceec17840d7",
   "metadata": {},
   "outputs": [],
   "source": [
    "from dotenv import load_dotenv\n",
    "import os\n",
    "import boto3\n",
    "import sagemaker\n",
    "\n",
    "# Load from .env\n",
    "load_dotenv()\n",
    "\n",
    "aws_key = os.getenv(\"AWS_ACCESS_KEY_ID\")\n",
    "aws_secret = os.getenv(\"AWS_SECRET_ACCESS_KEY\")\n",
    "region = os.getenv(\"AWS_REGION\", \"us-east-1\")\n",
    "\n",
    "# Build boto3 + sagemaker session with your credentials\n",
    "boto_session = boto3.Session(\n",
    "    aws_access_key_id=aws_key,\n",
    "    aws_secret_access_key=aws_secret,\n",
    "    region_name=region\n",
    ")\n",
    "\n",
    "sagemaker_session = sagemaker.Session(boto_session=boto_session)\n"
   ]
  },
  {
   "cell_type": "code",
   "execution_count": null,
   "id": "84bf17fb-7838-4cd9-8aa1-43c8e8ac8689",
   "metadata": {},
   "outputs": [],
   "source": [
    "import boto3\n",
    "from sagemaker.serializers import JSONSerializer\n",
    "from sagemaker.deserializers import JSONDeserializer\n",
    "from sagemaker.predictor import Predictor\n",
    "\n",
    "# Connect to the existing endpoint\n",
    "predictor = Predictor(\n",
    "    endpoint_name=\"news-truth-checker-endpoint-v1\",\n",
    "    serializer=JSONSerializer(),\n",
    "    deserializer=JSONDeserializer()\n",
    ")\n",
    "\n",
    "print(\"✅ Connected to endpoint.\")\n"
   ]
  },
  {
   "cell_type": "code",
   "execution_count": null,
   "id": "ba698239-96bb-4f57-80ae-9b84cc9d52df",
   "metadata": {},
   "outputs": [],
   "source": [
    "from sklearn.feature_extraction.text import TfidfVectorizer\n",
    "from sklearn.naive_bayes import MultinomialNB\n",
    "import pickle\n",
    "import pandas as pd\n",
    "\n",
    "# Load and clean dataset\n",
    "df = pd.read_csv(\"data/fake_true_news_dataset.csv\")\n",
    "df = df.dropna(subset=['text', 'label'])\n",
    "\n",
    "# Train/test split\n",
    "X = df['text']\n",
    "y = df['label']\n",
    "\n",
    "# Fit the TF-IDF vectorizer\n",
    "vectorizer = TfidfVectorizer(stop_words='english', max_df=0.7)\n",
    "X_vec = vectorizer.fit_transform(X)\n",
    "\n",
    "# Fit the model\n",
    "model = MultinomialNB()\n",
    "model.fit(X_vec, y)\n",
    "\n",
    "# Save the fitted model and vectorizer\n",
    "with open(\"news_model.pkl\", \"wb\") as f:\n",
    "    pickle.dump(model, f)\n",
    "\n",
    "with open(\"tfidf_vectorizer.pkl\", \"wb\") as f:\n",
    "    pickle.dump(vectorizer, f)\n",
    "\n",
    "print(\"✅ Re-saved fitted model and vectorizer.\")\n"
   ]
  },
  {
   "cell_type": "code",
   "execution_count": 5,
   "id": "7deab4c2-8203-47a4-92fa-eb203150e273",
   "metadata": {
    "execution": {
     "iopub.execute_input": "2025-05-16T13:26:45.298762Z",
     "iopub.status.busy": "2025-05-16T13:26:45.298502Z",
     "iopub.status.idle": "2025-05-16T13:26:45.318521Z",
     "shell.execute_reply": "2025-05-16T13:26:45.317530Z",
     "shell.execute_reply.started": "2025-05-16T13:26:45.298742Z"
    }
   },
   "outputs": [
    {
     "ename": "ImportError",
     "evalue": "cannot import name 'model_fn' from 'inference' (/home/sagemaker-user/src/inference.py)",
     "output_type": "error",
     "traceback": [
      "\u001b[0;31m---------------------------------------------------------------------------\u001b[0m",
      "\u001b[0;31mImportError\u001b[0m                               Traceback (most recent call last)",
      "Cell \u001b[0;32mIn[5], line 2\u001b[0m\n\u001b[1;32m      1\u001b[0m \u001b[38;5;28;01mimport\u001b[39;00m\u001b[38;5;250m \u001b[39m\u001b[38;5;21;01mjson\u001b[39;00m\n\u001b[0;32m----> 2\u001b[0m \u001b[38;5;28;01mfrom\u001b[39;00m\u001b[38;5;250m \u001b[39m\u001b[38;5;21;01minference\u001b[39;00m\u001b[38;5;250m \u001b[39m\u001b[38;5;28;01mimport\u001b[39;00m model_fn, input_fn, predict_fn, output_fn\n\u001b[1;32m      4\u001b[0m \u001b[38;5;66;03m# Load model\u001b[39;00m\n\u001b[1;32m      5\u001b[0m model_objects \u001b[38;5;241m=\u001b[39m model_fn(\u001b[38;5;124m\"\u001b[39m\u001b[38;5;124m.\u001b[39m\u001b[38;5;124m\"\u001b[39m)\n",
      "\u001b[0;31mImportError\u001b[0m: cannot import name 'model_fn' from 'inference' (/home/sagemaker-user/src/inference.py)"
     ]
    }
   ],
   "source": [
    "import json\n",
    "from inference import model_fn, input_fn, predict_fn, output_fn\n",
    "\n",
    "# Load model\n",
    "model_objects = model_fn(\".\")\n",
    "\n",
    "# Simulate SageMaker input\n",
    "request_body = json.dumps({\n",
    "    \"text\": \"NASA confirms the discovery of water on the Moon.\"\n",
    "})\n",
    "content_type = \"application/json\"\n",
    "\n",
    "# Simulate SageMaker pipeline\n",
    "parsed_input = input_fn(request_body, content_type)\n",
    "prediction = predict_fn(parsed_input, model_objects)\n",
    "result = output_fn(prediction, content_type)\n",
    "\n",
    "print(\"✅ Local prediction result:\", result)\n"
   ]
  }
 ],
 "metadata": {
  "kernelspec": {
   "display_name": "Python 3 (ipykernel)",
   "language": "python",
   "name": "python3"
  },
  "language_info": {
   "codemirror_mode": {
    "name": "ipython",
    "version": 3
   },
   "file_extension": ".py",
   "mimetype": "text/x-python",
   "name": "python",
   "nbconvert_exporter": "python",
   "pygments_lexer": "ipython3",
   "version": "3.11.11"
  }
 },
 "nbformat": 4,
 "nbformat_minor": 5
}
